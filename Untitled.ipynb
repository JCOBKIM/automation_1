{
 "cells": [
  {
   "cell_type": "code",
   "execution_count": 1,
   "id": "57def890-1a9f-450f-9d1a-990bb652f5a7",
   "metadata": {},
   "outputs": [
    {
     "data": {
      "text/html": [
       "<style>.container { width:100% !important; }</style>"
      ],
      "text/plain": [
       "<IPython.core.display.HTML object>"
      ]
     },
     "metadata": {},
     "output_type": "display_data"
    }
   ],
   "source": [
    "# step1.관련 모듈 import\n",
    "from PyPDF2 import PdfFileReader, PdfFileWriter\n",
    "\n",
    "# step2.기존 pdf 불러오기\n",
    "pdfReader = PdfReader(\"테스트 PDF 파일 1.pdf\", \"rb\")\n",
    "\n",
    "# step3.새로 만들 pdf 객체 생성\n",
    "pdfWriter = PdfWriter()\n",
    "\n",
    "# step4.기존의 1번 페이지를 가져와서 새로만든 pdf에 붙여넣기\n",
    "pdfWriter.add_page(pdfReader.pages[1])\n",
    "\n",
    "# step5.1번 페이지가 붙여진 새로운 pdf 파일을 현재 경로('./')에 원하는 이름으로 저장\n",
    "pdfWriter.write(open(\"./추출한 테스트 PDF 파일.pdf\", \"wb\"))"
   ]
  },
  {
   "cell_type": "code",
   "execution_count": null,
   "id": "6f955436-92a1-4538-a6a9-7d1bb093fa98",
   "metadata": {},
   "outputs": [],
   "source": []
  }
 ],
 "metadata": {
  "kernelspec": {
   "display_name": "automation",
   "language": "python",
   "name": "automation"
  },
  "language_info": {
   "codemirror_mode": {
    "name": "ipython",
    "version": 3
   },
   "file_extension": ".py",
   "mimetype": "text/x-python",
   "name": "python",
   "nbconvert_exporter": "python",
   "pygments_lexer": "ipython3",
   "version": "3.12.4"
  }
 },
 "nbformat": 4,
 "nbformat_minor": 5
}
